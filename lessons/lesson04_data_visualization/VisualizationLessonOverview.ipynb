{
 "metadata": {
  "name": ""
 },
 "nbformat": 3,
 "nbformat_minor": 0,
 "worksheets": [
  {
   "cells": [
    {
     "cell_type": "markdown",
     "metadata": {},
     "source": [
      "# Visualization Lesson Overview [DRAFT]\n",
      "\n",
      "## Lectures to Use/Follow\n",
      "* [CS109 on DataViz](http://nbviewer.ipython.org/github/cs109/content/blob/master/labs/lab3/lab3full.ipynb) is great: \"Exploratory Data Analysis for Classification using Pandas and Matplotlib\"\n",
      "   * Suggest adapting it\n",
      "   * Includes Pandas, EDA, Munging, and lots of pretty plots like:\n",
      "   ![](http://note.io/1gD3a1a)\n",
      "   \n",
      "   \n",
      "\n"
     ]
    },
    {
     "cell_type": "code",
     "collapsed": false,
     "input": [],
     "language": "python",
     "metadata": {},
     "outputs": []
    }
   ],
   "metadata": {}
  }
 ]
}