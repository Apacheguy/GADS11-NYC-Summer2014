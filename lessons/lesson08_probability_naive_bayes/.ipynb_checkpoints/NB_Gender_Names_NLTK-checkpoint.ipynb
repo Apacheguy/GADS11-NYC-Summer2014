{
 "metadata": {
  "name": "",
  "signature": "sha256:70b29c110cba657e267bc6589a9e3d77f3fbf4069a1c77aaaee4ee431688b3cb"
 },
 "nbformat": 3,
 "nbformat_minor": 0,
 "worksheets": [
  {
   "cells": [
    {
     "cell_type": "code",
     "collapsed": false,
     "input": [
      "import nltk"
     ],
     "language": "python",
     "metadata": {},
     "outputs": []
    },
    {
     "cell_type": "code",
     "collapsed": false,
     "input": [
      "def gender_features(word):\n",
      "     return {'last_letter': word[-1]}"
     ],
     "language": "python",
     "metadata": {},
     "outputs": []
    },
    {
     "cell_type": "code",
     "collapsed": false,
     "input": [
      "gender_features('Edward')\n"
     ],
     "language": "python",
     "metadata": {},
     "outputs": []
    },
    {
     "cell_type": "code",
     "collapsed": false,
     "input": [
      "from nltk.corpus import names\n",
      "import random\n",
      "names = ([(name, 'male') for name in names.words('male.txt')] +\n",
      "...          [(name, 'female') for name in names.words('female.txt')])\n",
      "import random\n",
      "random.shuffle(names)"
     ],
     "language": "python",
     "metadata": {},
     "outputs": []
    },
    {
     "cell_type": "code",
     "collapsed": false,
     "input": [
      " \n",
      "featuresets = [(gender_features(n), g) for (n,g) in names]\n",
      "train_set, test_set = featuresets[500:], featuresets[:500]\n",
      "classifier = nltk.NaiveBayesClassifier.train(train_set)"
     ],
     "language": "python",
     "metadata": {},
     "outputs": []
    },
    {
     "cell_type": "code",
     "collapsed": false,
     "input": [
      "classifier.classify(gender_features('Neo'))\n",
      "'male'"
     ],
     "language": "python",
     "metadata": {},
     "outputs": []
    },
    {
     "cell_type": "code",
     "collapsed": false,
     "input": [
      "classifier.classify(gender_features('Trinity'))"
     ],
     "language": "python",
     "metadata": {},
     "outputs": []
    },
    {
     "cell_type": "code",
     "collapsed": false,
     "input": [
      "print nltk.classify.accuracy(classifier, test_set)\n"
     ],
     "language": "python",
     "metadata": {},
     "outputs": []
    },
    {
     "cell_type": "code",
     "collapsed": false,
     "input": [
      "classifier.show_most_informative_features(5)\n"
     ],
     "language": "python",
     "metadata": {},
     "outputs": []
    },
    {
     "cell_type": "markdown",
     "metadata": {},
     "source": [
      "For more practice: Modify the gender_features() function to provide the classifier with features encoding the length of the name, its first letter, and any other features that seem like they might be informative. Retrain the classifier with these new features, and test its accuracy."
     ]
    },
    {
     "cell_type": "code",
     "collapsed": false,
     "input": [
      "def gender_features2(name):\n",
      "    features = {}\n",
      "    features[\"firstletter\"] = name[0].lower()\n",
      "    features[\"lastletter\"] = name[-1].lower()\n",
      "    for letter in 'abcdefghijklmnopqrstuvwxyz':\n",
      "        features[\"count(%s)\" % letter] = name.lower().count(letter)\n",
      "        features[\"has(%s)\" % letter] = (letter in name.lower())\n",
      "    return features"
     ],
     "language": "python",
     "metadata": {},
     "outputs": []
    },
    {
     "cell_type": "code",
     "collapsed": false,
     "input": [
      "gender_features2('John')"
     ],
     "language": "python",
     "metadata": {},
     "outputs": []
    },
    {
     "cell_type": "code",
     "collapsed": false,
     "input": [
      "featuresets = [(gender_features2(n), g) for (n,g) in names]\n",
      "train_set, test_set = featuresets[500:], featuresets[:500]\n",
      "classifier = nltk.NaiveBayesClassifier.train(train_set)\n",
      " rint nltk.classify.accuracy(classifier, test_set)\n",
      " "
     ],
     "language": "python",
     "metadata": {},
     "outputs": []
    },
    {
     "cell_type": "code",
     "collapsed": false,
     "input": [
      "train_names = names[1500:]\n",
      "devtest_names = names[500:1500]\n",
      "test_names = names[:500]"
     ],
     "language": "python",
     "metadata": {},
     "outputs": []
    },
    {
     "cell_type": "code",
     "collapsed": false,
     "input": [
      "\n",
      "train_set = [(gender_features(n), g) for (n,g) in train_names]\n",
      "devtest_set = [(gender_features(n), g) for (n,g) in devtest_names]\n",
      "test_set = [(gender_features(n), g) for (n,g) in test_names]\n",
      "classifier = nltk.NaiveBayesClassifier.train(train_set)\n",
      "print nltk.classify.accuracy(classifier, devtest_set) "
     ],
     "language": "python",
     "metadata": {},
     "outputs": []
    },
    {
     "cell_type": "code",
     "collapsed": false,
     "input": [
      "errors = []\n",
      "for (name, tag) in devtest_names:\n",
      "     guess = classifier.classify(gender_features(name))\n",
      "     if guess != tag:\n",
      "         errors.append( (tag, guess, name) )"
     ],
     "language": "python",
     "metadata": {},
     "outputs": []
    },
    {
     "cell_type": "code",
     "collapsed": false,
     "input": [
      "for (tag, guess, name) in sorted(errors): \n",
      "     print 'correct=%-8s guess=%-8s name=%-30s' % (tag, guess, name)"
     ],
     "language": "python",
     "metadata": {},
     "outputs": []
    },
    {
     "cell_type": "code",
     "collapsed": false,
     "input": [
      "def gender_features(word):\n",
      "     return {'suffix1': word[-1:],\n",
      "             'suffix2': word[-2:]}"
     ],
     "language": "python",
     "metadata": {},
     "outputs": []
    },
    {
     "cell_type": "code",
     "collapsed": false,
     "input": [
      "train_set = [(gender_features(n), g) for (n,g) in train_names]\n",
      "devtest_set = [(gender_features(n), g) for (n,g) in devtest_names]\n",
      "classifier = nltk.NaiveBayesClassifier.train(train_set)\n",
      "print nltk.classify.accuracy(classifier, devtest_set)"
     ],
     "language": "python",
     "metadata": {},
     "outputs": []
    }
   ],
   "metadata": {}
  }
 ]
}