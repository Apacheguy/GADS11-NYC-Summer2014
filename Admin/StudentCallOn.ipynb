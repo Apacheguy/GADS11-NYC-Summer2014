{
 "metadata": {
  "name": "",
  "signature": "sha256:22b2167fcc2a1c8b93c1d7c825f35aeddac398776a1b838c7655500f7b472086"
 },
 "nbformat": 3,
 "nbformat_minor": 0,
 "worksheets": [
  {
   "cells": [
    {
     "cell_type": "code",
     "collapsed": false,
     "input": [
      "# Initialize\n",
      "students=(\"David,Sam,Ryan,Anastasia,Jon,Timothy,Deepti,Chris,julia,Carlo,Venus,Laila,Danny,Michael,Victor,Robert,Radu,David,Ariba,Rob,Justin\")\n",
      "import random\n",
      "students = students.split(\",\")\n",
      "notanswered=students\n",
      "\n",
      "def answer(x=notanswered):\n",
      "    if len(x) != 0:\n",
      "        new=random.sample(x,1)\n",
      "        print \"Current Student: \",new[0]\n",
      "        print \"\\n\"\n",
      "        x.remove(new[0])\n",
      "        print len(x),\"remaining Students: \",\"\\n\",', '.join(x)\n",
      "    else:\n",
      "        print(\"Everyone answered a question!\")\n",
      "    return(x)"
     ],
     "language": "python",
     "metadata": {},
     "outputs": [],
     "prompt_number": 161
    },
    {
     "cell_type": "code",
     "collapsed": false,
     "input": [
      "# Run\n",
      "notanswered=answer()"
     ],
     "language": "python",
     "metadata": {},
     "outputs": [
      {
       "output_type": "stream",
       "stream": "stdout",
       "text": [
        "Current Student:  Sam\n",
        "\n",
        "\n",
        "20 remaining Students:  \n",
        "David, Ryan, Anastasia, Jon, Timothy, Deepti, Chris, julia, Carlo, Venus, Laila, Danny, Michael, Victor, Robert, Radu, David, Ariba, Rob, Justin\n"
       ]
      }
     ],
     "prompt_number": 162
    }
   ],
   "metadata": {}
  }
 ]
}